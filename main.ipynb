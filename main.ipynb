{
 "cells": [
  {
   "cell_type": "markdown",
   "metadata": {
    "scrolled": true
   },
   "source": [
    "Alghorithm of Canny "
   ]
  },
  {
   "cell_type": "code",
   "execution_count": 1,
   "metadata": {},
   "outputs": [
    {
     "name": "stdout",
     "output_type": "stream",
     "text": [
      "4.1.1\n"
     ]
    }
   ],
   "source": [
    "import cv2 \n",
    "import numpy as np \n",
    "import time \n",
    "\n",
    "print(cv2.__version__) \n",
    "\n",
    "capture_video = cv2.VideoCapture(\"coat2.mp4\") \n",
    "\n",
    "time.sleep(2) \n",
    "count = 0\n",
    "background = 0\n",
    "\n",
    "for i in range(60): \n",
    "\treturn_val, background = capture_video.read() \n",
    "\tif return_val == False : \n",
    "\t\tcontinue\n",
    "\n",
    "background = np.flip(background, axis = 1) \n",
    "\n",
    "while (capture_video.isOpened()): \n",
    "\treturn_val, img = capture_video.read() \n",
    "\tif not return_val : \n",
    "\t\tbreak\n",
    "\tcount = count + 1\n",
    "\timg = np.flip(img, axis = 1) \n",
    " \n",
    "\thsv = cv2.cvtColor(img, cv2.COLOR_BGR2HSV) \n",
    "    \n",
    "\tlower_red = np.array([100, 30, 30])\n",
    "\tupper_red = np.array([100, 255, 255]) \n",
    "\tmask1 = cv2.inRange(hsv, lower_red, upper_red) \n",
    " \n",
    "\tlower_red = np.array([175, 70, 70]) \n",
    "\tupper_red = np.array([180, 255, 255]) \n",
    "\tmask2 = cv2.inRange(hsv, lower_red, upper_red) \n",
    "\t  \n",
    "\tmask1 = mask1 + mask2 \n",
    "\tmask1 = cv2.morphologyEx(mask1, cv2.MORPH_OPEN, np.ones((3, 3), np.uint8), iterations = 2) \n",
    "\tmask1 = cv2.dilate(mask1, np.ones((3, 3), np.uint8), iterations = 1) \n",
    "\tmask2 = cv2.bitwise_not(mask1) \n",
    " \n",
    "\tres1 = cv2.bitwise_and(background, background, mask = mask1) \n",
    "\tres2 = cv2.bitwise_and(img, img, mask = mask2) \n",
    "\tfinal_output = cv2.addWeighted(res1, 1, res2, 1, 0) \n",
    "\n",
    "\tcv2.imshow(\"INVISIBLE MAN\", final_output) \n",
    "\tk = cv2.waitKey(10) \n",
    "\tif k == 2: \n",
    "\t\tbreak\n"
   ]
  },
  {
   "cell_type": "code",
   "execution_count": null,
   "metadata": {},
   "outputs": [],
   "source": []
  }
 ],
 "metadata": {
  "kernelspec": {
   "display_name": "Python 3",
   "language": "python",
   "name": "python3"
  },
  "language_info": {
   "codemirror_mode": {
    "name": "ipython",
    "version": 3
   },
   "file_extension": ".py",
   "mimetype": "text/x-python",
   "name": "python",
   "nbconvert_exporter": "python",
   "pygments_lexer": "ipython3",
   "version": "3.7.3"
  }
 },
 "nbformat": 4,
 "nbformat_minor": 2
}
